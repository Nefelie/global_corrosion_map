{
 "cells": [
  {
   "cell_type": "markdown",
   "metadata": {},
   "source": [
    "### Loading Experimental Data\n",
    "\n",
    "Firstly, the laboratory corrosion data (measured corrosion rate of sample in seawater of known temperature, salinity, dissolved oxygen and pH) is loaded so that it can be used to train the ANN."
   ]
  },
  {
   "cell_type": "code",
   "execution_count": 1,
   "metadata": {},
   "outputs": [],
   "source": [
    "import os\n",
    "import pandas as pd\n",
    "\n",
    "def read_xlsx(filename=\"new_run.xlsx\"):\n",
    "    \"\"\"\n",
    "    reads an excel file stored within the \"data\" folder of the current working directory\n",
    "\n",
    "    INPUTS:\n",
    "        filename:  name of the xlsx file\n",
    "    \"\"\"\n",
    "    current_dir = os.getcwd()  # Get the current working directory\n",
    "    target_dir = os.path.join(current_dir, \"data\")  # Join the target folder to the current directory\n",
    "    imm = os.path.join(target_dir, filename)\n",
    "    imm_df = pd.read_excel(imm)\n",
    "    return imm_df\n",
    "\n",
    "df = read_xlsx()\n",
    "# df"
   ]
  },
  {
   "cell_type": "markdown",
   "metadata": {},
   "source": [
    "#### Filtering Data to the Global Seawater Range\n",
    "\n",
    "Next, the data is filtered to meet the upper and lower bounds of the global seawater range [1]:\n",
    "\n",
    "| Parameter               | Global Seawater Range   |\n",
    "| ----------------------- | :---------------------: |\n",
    "| Temperature (°C)        | -2-35                   |\n",
    "| Dissolved Oxygen (mg/L) | 4-10.4                  |\n",
    "| Salinity (ppt)          | 27-40                   |\n",
    "| pH                      | 7-8.4                   |\n",
    "\n",
    "\n",
    "<small>[1] Wang, Z., Sobey, A. J., & Wang, Y. (2021). Corrosion prediction for bulk carrier via data fusion of survey and experimental measurements. Materials & Design, 208, 109910.</small>"
   ]
  },
  {
   "cell_type": "code",
   "execution_count": 2,
   "metadata": {},
   "outputs": [],
   "source": [
    "def filter_df(df):\n",
    "    \"\"\"\n",
    "    filters the dataframe to the global seawater upper and lower bounds for each column\n",
    "    \"\"\"\n",
    "    # Dictionary of column names and their bounds\n",
    "    col_bounds = {\n",
    "        'Temperature': (-2, 35),\n",
    "        'Dissolved oxygen': (4, 10.4),\n",
    "        'Salinity': (27, 40),\n",
    "        'pH': (7, 8.4)\n",
    "    }\n",
    "\n",
    "    df_filt = df.copy()\n",
    "    \n",
    "    for col_name, (lower_bd, upper_bd) in col_bounds.items():\n",
    "        df_filt = df_filt[\n",
    "            (df_filt[col_name] >= lower_bd) & (df_filt[col_name] <= upper_bd)\n",
    "        ]\n",
    "    \n",
    "    return df_filt\n",
    "\n",
    "df_filt = filter_df(df)\n"
   ]
  },
  {
   "cell_type": "markdown",
   "metadata": {},
   "source": [
    "Issues with the filtered corrosion data:\n",
    "- source [44] from <small>[1] Wang, Z., Sobey, A. J., & Wang, Y. (2021) </small> specifies a temperature range of 25 ±5°C, constant pH, dissolved oxygen, salinity\n",
    "- source [48] does not provide salinity measurements, paper [1] has assumed salinity of 27.15 ppt but this has not been verified (concentration of sea salts changes however a constant salinity value is assigned)\n",
    "\n",
    "These two data sources can lead to a highly skewed dataset due to the constant ocean parameters used throughout.\n"
   ]
  },
  {
   "cell_type": "code",
   "execution_count": 3,
   "metadata": {},
   "outputs": [],
   "source": [
    "import numpy as np\n",
    "from sklearn.preprocessing import StandardScaler, MinMaxScaler\n",
    "from sklearn.model_selection import train_test_split\n",
    "\n",
    "def extract_Xy(df):\n",
    "    \"\"\"\n",
    "    extraxts the input (X) and output (y) from a dataframe\n",
    "    \"\"\"\n",
    "    input_cols = [\"Temperature\", \"Salinity\", \"Dissolved oxygen\", \"pH\"]\n",
    "    output_col = [\"Corrosion rate\"]\n",
    "    X = np.array(df[input_cols])\n",
    "    y = np.array(df[output_col])\n",
    "    return X, y\n",
    "\n",
    "X, y = extract_Xy(df_filt)"
   ]
  },
  {
   "cell_type": "markdown",
   "metadata": {},
   "source": [
    "### Preparing the data for the ANN\n",
    "\n",
    "Next, the inputs are normalised based on the global seawater bounds as this will help with the performance of the ANN. Note that the global seawater bounds are used rather than a standard normalisation process based on the min and max of the input data. This is because the ANN will be used with global seawater datasets, hence the range of that data needs to be accounted for when normalising the lab data."
   ]
  },
  {
   "cell_type": "code",
   "execution_count": 4,
   "metadata": {},
   "outputs": [],
   "source": [
    "def norm_input(X):\n",
    "    \"\"\"\n",
    "    Normalise each feature (between 0 and 1) based on the global seawater bounds\n",
    "    \"\"\"\n",
    "\n",
    "    col_limits = [\n",
    "        (-2, 35),  # temperature \n",
    "        (4, 10.4), # dissolved oxygen\n",
    "        (27, 40),  # salinity\n",
    "        (7, 8.4)   # pH\n",
    "    ]\n",
    "\n",
    "    normalised_features = []\n",
    "\n",
    "    for col in range(X.shape[1]):\n",
    "        min_limit, max_limit = col_limits[col]\n",
    "        feature = X[:, col]\n",
    "        normalised_feature = (feature - min_limit) / (max_limit - min_limit)\n",
    "        normalised_features.append(normalised_feature)\n",
    "\n",
    "    normalised_data = np.column_stack(normalised_features)\n",
    "    return normalised_data\n",
    "\n",
    "X_n = norm_input(X)"
   ]
  },
  {
   "cell_type": "markdown",
   "metadata": {},
   "source": [
    "Finally the dataset is split into a training set (70%), validation set(10%) and test set (20%)."
   ]
  },
  {
   "cell_type": "code",
   "execution_count": 5,
   "metadata": {},
   "outputs": [],
   "source": [
    "def split_dataset(X, y, random_seed=1, train_r=0.7, val_r=0.1, test_r=0.2):\n",
    "\n",
    "    X_train, X_temp, y_train, y_temp = train_test_split(X, y, test_size=1 - train_r, random_state=random_seed)\n",
    "    X_val, X_test, y_val, y_test = train_test_split(X_temp, y_temp, test_size=test_r / (test_r + val_r), random_state=random_seed)\n",
    "    return X_train, X_val, X_test, y_train, y_val, y_test"
   ]
  }
 ],
 "metadata": {
  "kernelspec": {
   "display_name": "corrosion_map3",
   "language": "python",
   "name": "python3"
  },
  "language_info": {
   "codemirror_mode": {
    "name": "ipython",
    "version": 3
   },
   "file_extension": ".py",
   "mimetype": "text/x-python",
   "name": "python",
   "nbconvert_exporter": "python",
   "pygments_lexer": "ipython3",
   "version": "3.8.17"
  },
  "orig_nbformat": 4
 },
 "nbformat": 4,
 "nbformat_minor": 2
}
