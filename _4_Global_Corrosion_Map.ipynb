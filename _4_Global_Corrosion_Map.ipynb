{
 "cells": [
  {
   "cell_type": "code",
   "execution_count": null,
   "metadata": {},
   "outputs": [],
   "source": [
    "import import_ipynb\n",
    "from _1_Lab_Data import *\n",
    "from _2_ANN_architecture import *\n",
    "from _3_Global_Seawater_Data import *\n",
    "from _plots import *\n",
    "from _map_tools import *"
   ]
  },
  {
   "cell_type": "code",
   "execution_count": null,
   "metadata": {},
   "outputs": [],
   "source": [
    "df = read_xlsx()\n",
    "df_filt = filter_df(df)\n",
    "X, y = extract_Xy(df_filt)\n",
    "X_n = norm_input(X)"
   ]
  },
  {
   "cell_type": "code",
   "execution_count": null,
   "metadata": {},
   "outputs": [],
   "source": [
    "model = create_ANN()"
   ]
  },
  {
   "cell_type": "markdown",
   "metadata": {},
   "source": [
    "### Generating Tensorflow Session for Reproducible Results\n",
    "To validate the model and determine the most suitable neural network architecture and hyperparameters, a tensorflow session was configured. This allows a fixed seed to be used in order to generate reproducible results."
   ]
  },
  {
   "cell_type": "code",
   "execution_count": null,
   "metadata": {},
   "outputs": [],
   "source": [
    "import numpy as np\n",
    "import random as rn\n",
    "import tensorflow as tf\n",
    "import os\n",
    "\n",
    "def create_seed_session(seed=1):\n",
    "    \"\"\"\n",
    "    establishes a session for a reproducible keras model\n",
    "    \"\"\"\n",
    "    num_cores = 1  \n",
    "    os.environ['PYTHONHASHSEED'] = '0'                      \n",
    "    np.random.seed(seed)\n",
    "    rn.seed(seed)\n",
    "    tf.random.set_seed(seed)\n",
    "\n",
    "    session_conf = tf.compat.v1.ConfigProto(intra_op_parallelism_threads=num_cores,\n",
    "                                inter_op_parallelism_threads=num_cores, \n",
    "                                allow_soft_placement=True,\n",
    "                                device_count = {'CPU' : 1, 'GPU' : 0})\n",
    "\n",
    "    sess = tf.compat.v1.Session(graph=tf.compat.v1.get_default_graph(), config=session_conf)\n",
    "    tf.compat.v1.keras.backend.set_session(sess)"
   ]
  },
  {
   "cell_type": "markdown",
   "metadata": {},
   "source": [
    "### Single run"
   ]
  },
  {
   "cell_type": "code",
   "execution_count": null,
   "metadata": {},
   "outputs": [],
   "source": [
    "SEED = 41\n",
    "create_seed_session(SEED)\n",
    "\n",
    "X_train, X_val, X_test, y_train, y_val, y_test = split_dataset(X_n, y, random_seed=SEED)\n",
    "\n",
    "model = create_ANN(hl_neurons=40, dropout_r=0.2, lr=0.001)   \n",
    "history = fit_model(X_train, y_train, X_val, y_val, model, patience=100, epochs=1000, batch_size=16)\n",
    "\n",
    "plot_history(history)\n",
    "df_corrosion = global_model(model, df_temp, df_sal, df_doxy, df_pH)\n",
    "field_results = compare_model(df_corrosion)\n",
    "print(\"-----Percentage Difference [%]-----\")\n",
    "print(field_results.corrosion_perc)\n",
    "\n",
    "plot_NN_output_dual(model, X_train, y_train, X_val, y_val, \"Training Set\", \"Validation Set\")\n",
    "plot_NN_output_dual(model, X_test, y_test, X_n, y, \"Test Set\", \"All\")\n",
    "plot_corrosion(df_corrosion)"
   ]
  },
  {
   "cell_type": "markdown",
   "metadata": {},
   "source": [
    "### K-Fold Cross Validation\n",
    "K-fold cross validation is used to evaluate the model on different groups of the data to see if it performs well on data in general. The dataset is divided into k subsets and one subset is used for testing and the rest is kept for training. This procedure is iterated throughout the entire dataset, so that each subset is used for testing the model. "
   ]
  },
  {
   "cell_type": "code",
   "execution_count": null,
   "metadata": {},
   "outputs": [],
   "source": [
    "from sklearn.model_selection import KFold\n",
    "\n",
    "num_folds = 5\n",
    "\n",
    "SEED = 47\n",
    "create_seed_session(SEED)\n",
    "\n",
    "# setting up the k-fold\n",
    "kf = KFold(n_splits=num_folds, shuffle=True, random_state=SEED)\n",
    "\n",
    "corrosion_pred = []\n",
    "\n",
    "# Iterate through the folds\n",
    "for fold, (train_index, val_index) in enumerate(kf.split(X_n)):\n",
    "\n",
    "    print(f\"Fold {fold+1}/{num_folds}\")\n",
    "    \n",
    "    model = create_ANN()   \n",
    "\n",
    "\n",
    "    X_train_fold, X_val_fold = X_n[train_index], X_n[val_index]\n",
    "    y_train_fold, y_val_fold = y[train_index], y[val_index]\n",
    "      \n",
    "    history = fit_model(X_train_fold, y_train_fold, X_val_fold, y_val_fold, model, patience=100, epochs=1000, batch_size=16)\n",
    "    plot_history(history)\n",
    "    plot_NN_output_dual(model, X_train_fold, y_train_fold, X_val_fold, y_val_fold, \"Training Set\", \"Test Set\")\n",
    "    df_corrosion = global_model(model, df_temp, df_sal, df_doxy, df_pH)\n",
    "\n",
    "    field_results = compare_model(df_corrosion)\n",
    "    corrosion_pred.append(field_results.corrosion_pred)\n",
    "    \n"
   ]
  },
  {
   "cell_type": "markdown",
   "metadata": {},
   "source": [
    "#### Box Plots\n",
    "The predicted corrosion rates at each of the field test locations can be compared to those from the literature. The box plots allow the variation between each fold iteration to be visualised and used as a way to investigate the robustness of the model"
   ]
  },
  {
   "cell_type": "code",
   "execution_count": null,
   "metadata": {},
   "outputs": [],
   "source": [
    "import pandas as pd\n",
    "import matplotlib.pyplot as plt\n",
    "\n",
    "df_box = pd.DataFrame(corrosion_pred)\n",
    "fold_indices = [f\"Fold {i+1}\" for i in range(len(corrosion_pred))]\n",
    "df_box.index = fold_indices\n",
    "\n",
    "df_box = df_box.applymap(lambda x: x.item() if isinstance(x, np.ndarray) and x.size == 1 else x)\n",
    "\n",
    "\n",
    "plt.figure(figsize=(10, 6))\n",
    "x_offsets = np.arange(1, len(df_box.columns) + 1)\n",
    "for i, column in enumerate(df_box.columns):\n",
    "    # Add box plot with an x-offset\n",
    "    plt.boxplot(df_box[column], positions=[i + 1])\n",
    "    \n",
    "    field_test = field_test_results()\n",
    "    # Add corrosion markers from field_test\n",
    "    corrosion_value = field_test.loc[column].corrosion\n",
    "    plt.scatter(i + 1, corrosion_value, marker='o', label=f'{field_test.loc[column].name}')\n",
    "    \n",
    "plt.xlabel('Test Location')\n",
    "plt.ylabel('Corrosion Rate [mm/year]')\n",
    "plt.legend()\n",
    "plt.xticks(x_offsets, df_box.columns)  # Set x-axis labels and positions\n",
    "plt.show()"
   ]
  }
 ],
 "metadata": {
  "kernelspec": {
   "display_name": "corrosion_map3",
   "language": "python",
   "name": "python3"
  },
  "language_info": {
   "codemirror_mode": {
    "name": "ipython",
    "version": 3
   },
   "file_extension": ".py",
   "mimetype": "text/x-python",
   "name": "python",
   "nbconvert_exporter": "python",
   "pygments_lexer": "ipython3",
   "version": "3.8.17"
  },
  "orig_nbformat": 4
 },
 "nbformat": 4,
 "nbformat_minor": 2
}
