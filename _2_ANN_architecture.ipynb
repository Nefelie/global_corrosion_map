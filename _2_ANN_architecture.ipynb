{
 "cells": [
  {
   "cell_type": "markdown",
   "metadata": {},
   "source": [
    "### Artificial Neural Network (ANN)\n",
    "\n",
    "The next step is to build the ANN with the following properties:\n",
    "- __Input Layer__\n",
    "    - 4 neurons (temeprature, salinity, dissolved oxygen, pH)\n",
    "- __Two Hidden Layers__\n",
    "    - dropout rate (0.2), activation (ReLu)\n",
    "- __Output Layer__\n",
    "    - 1 neuron for corrosion rate prediction"
   ]
  },
  {
   "cell_type": "code",
   "execution_count": null,
   "metadata": {},
   "outputs": [],
   "source": [
    "from keras.layers import Input, Dense, Dropout\n",
    "from keras.models import Model   \n",
    "from keras.optimizers import Adam\n",
    "from keras import backend as K\n",
    "from keras.utils import register_keras_serializable\n",
    "from keras.callbacks import EarlyStopping\n",
    "\n",
    "\n",
    "def create_ANN(hl_neurons=40, dropout_r=0.2, lr=0.001):\n",
    "    input = Input(shape=(4,))\n",
    "    hidden1 = Dense(units=hl_neurons, activation='relu')(input)\n",
    "    dropout1 = Dropout(rate=dropout_r)(hidden1)\n",
    "    hidden2 = Dense(units=hl_neurons, activation='relu')(dropout1)\n",
    "    dropout2 = Dropout(rate=dropout_r)(hidden2)\n",
    "    output = Dense(units=1, activation='relu')(dropout2) \n",
    "    model = Model(input, output)\n",
    "    model.compile(loss='mean_absolute_error', optimizer=Adam(learning_rate=lr))\n",
    "    return model\n",
    "\n",
    "\n",
    "def fit_model(X_train, y_train, X_val, y_val, model, patience=100, epochs=1000, batch_size=16):\n",
    "    early_stopping = EarlyStopping(monitor='val_loss', patience=patience)\n",
    "    history = model.fit(X_train, y_train, validation_data=(X_val, y_val), batch_size=batch_size, epochs=epochs, callbacks=[early_stopping], verbose=0)\n",
    "    return history"
   ]
  },
  {
   "cell_type": "markdown",
   "metadata": {},
   "source": [
    "The outputs and normalised inputs from the previous notebook can now be used to train the artificial neural network."
   ]
  }
 ],
 "metadata": {
  "kernelspec": {
   "display_name": "corrosion_map3",
   "language": "python",
   "name": "python3"
  },
  "language_info": {
   "codemirror_mode": {
    "name": "ipython",
    "version": 3
   },
   "file_extension": ".py",
   "mimetype": "text/x-python",
   "name": "python",
   "nbconvert_exporter": "python",
   "pygments_lexer": "ipython3",
   "version": "3.8.17"
  },
  "orig_nbformat": 4
 },
 "nbformat": 4,
 "nbformat_minor": 2
}
