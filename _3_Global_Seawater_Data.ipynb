{
 "cells": [
  {
   "cell_type": "markdown",
   "metadata": {},
   "source": [
    "### Loading Seawater Dataset\n",
    "\n",
    "The following code loads a pickle containing the ocean parameter data in the format:\n",
    "- each row representing a month\n",
    "- each column containing the data for each of the ocean parameters (temperature, salinity, dissolved oxygen and pH)\n",
    "- each cell within the dataframe is a dataframe of shape (lat x lon) and the cell values represent the ocean parameter of interest"
   ]
  },
  {
   "cell_type": "code",
   "execution_count": 7,
   "metadata": {},
   "outputs": [],
   "source": [
    "import pickle\n",
    "import os\n",
    "\n",
    "def read_pickle(filename=\"ocean_params.pickle\"):\n",
    "    \"\"\"\n",
    "    reads the pickle containing all the ocean parameter data\n",
    "    \"\"\"\n",
    "    current_dir = os.getcwd()  # Get the current working directory\n",
    "    pickle_path = os.path.join(current_dir, \"data\", filename)\n",
    "    \n",
    "    with open(pickle_path, \"rb\") as file:\n",
    "        df = pickle.load(file)\n",
    "    \n",
    "    return df\n",
    "\n",
    "\n",
    "def extract_dfs(df_ocean, date='2010-05'):\n",
    "    \"\"\"\n",
    "    extracts the temperature, salinity, dissolved oxygen and pH from the ocean parameter dataset for a specific date (year and month)\n",
    "    \"\"\"\n",
    "    df_temp = df_ocean.loc[date, f\"df_temp\"]\n",
    "    df_sal = df_ocean.loc[date, f\"df_sal\"]\n",
    "    df_doxy = df_ocean.loc[date, f\"df_doxy\"]\n",
    "    df_pH = df_ocean.loc[date, f\"df_pH\"]\n",
    "\n",
    "    return df_temp, df_sal, df_doxy, df_pH\n",
    "\n",
    "\n",
    "df_ocean = read_pickle()\n",
    "df_temp, df_sal, df_doxy, df_pH = extract_dfs(df_ocean)\n",
    "\n"
   ]
  }
 ],
 "metadata": {
  "kernelspec": {
   "display_name": "corrosion_map3",
   "language": "python",
   "name": "python3"
  },
  "language_info": {
   "codemirror_mode": {
    "name": "ipython",
    "version": 3
   },
   "file_extension": ".py",
   "mimetype": "text/x-python",
   "name": "python",
   "nbconvert_exporter": "python",
   "pygments_lexer": "ipython3",
   "version": "3.8.17"
  },
  "orig_nbformat": 4
 },
 "nbformat": 4,
 "nbformat_minor": 2
}
